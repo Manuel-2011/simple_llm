{
 "cells": [
  {
   "cell_type": "code",
   "execution_count": 1,
   "metadata": {},
   "outputs": [
    {
     "name": "stderr",
     "output_type": "stream",
     "text": [
      "/Users/manuel.mosquera/Documents/projects/simpleLLM/venv/lib/python3.10/site-packages/tqdm/auto.py:21: TqdmWarning: IProgress not found. Please update jupyter and ipywidgets. See https://ipywidgets.readthedocs.io/en/stable/user_install.html\n",
      "  from .autonotebook import tqdm as notebook_tqdm\n"
     ]
    }
   ],
   "source": [
    "from transformers import AutoModelForCausalLM\n",
    "\n",
    "model = AutoModelForCausalLM.from_pretrained(\"models/addition_model\")"
   ]
  },
  {
   "cell_type": "code",
   "execution_count": 2,
   "metadata": {},
   "outputs": [],
   "source": [
    "class NumberTokenizer:\n",
    "  def __init__(self, numbers_qty=10):\n",
    "    vocab = ['+', '=', '-1', '0', '1', '2', '3', '4', '5', '6', '7', '8', '9']\n",
    "    self.numbers_qty = numbers_qty\n",
    "    self.pad_token = '-1'\n",
    "    self.encoder = {str(v):i for i,v in enumerate(vocab)}\n",
    "    self.decoder = {i:str(v) for i,v in enumerate(vocab)}\n",
    "    self.pad_token_id = self.encoder[self.pad_token]\n",
    "\n",
    "  def decode(self, token_ids):\n",
    "    return ' '.join(self.decoder[t] for t in token_ids)\n",
    "\n",
    "  def __call__(self, text):\n",
    "    return [self.encoder[t] for t in text.split()]"
   ]
  },
  {
   "cell_type": "code",
   "execution_count": 3,
   "metadata": {},
   "outputs": [],
   "source": [
    "tokenizer = NumberTokenizer(13)"
   ]
  },
  {
   "cell_type": "code",
   "execution_count": 12,
   "metadata": {},
   "outputs": [],
   "source": [
    "import torch\n",
    "import re\n",
    "\n",
    "def generate_solution(input, solution_length=6, model=model):\n",
    "  try:\n",
    "    parsed_input = re.search(r'(\\d)\\s*\\+\\s*(\\d)', input)\n",
    "    first_number = int(parsed_input.group(1))\n",
    "    second_number = int(parsed_input.group(2))\n",
    "  except:\n",
    "    return 'Invalid input'\n",
    "  model.eval()\n",
    "  input = f'{first_number} + {second_number} ='\n",
    "  input = torch.tensor(tokenizer(input))\n",
    "  input = input\n",
    "  solution = []\n",
    "  for i in range(solution_length):\n",
    "    output = model(input)\n",
    "    predicted = output.logits[-1].argmax()\n",
    "    input = torch.cat((input, predicted.unsqueeze(0)), dim=0)\n",
    "    solution.append(predicted.cpu().item())\n",
    "  return tokenizer.decode(solution)"
   ]
  },
  {
   "cell_type": "code",
   "execution_count": 13,
   "metadata": {},
   "outputs": [
    {
     "data": {
      "text/plain": [
       "'0 3'"
      ]
     },
     "execution_count": 13,
     "metadata": {},
     "output_type": "execute_result"
    }
   ],
   "source": [
    "generate_solution('1 + 2 =', solution_length=2)"
   ]
  },
  {
   "cell_type": "code",
   "execution_count": 14,
   "metadata": {},
   "outputs": [
    {
     "name": "stdout",
     "output_type": "stream",
     "text": [
      "Running on local URL:  http://127.0.0.1:7862\n",
      "\n",
      "To create a public link, set `share=True` in `launch()`.\n"
     ]
    },
    {
     "data": {
      "text/html": [
       "<div><iframe src=\"http://127.0.0.1:7862/\" width=\"100%\" height=\"500\" allow=\"autoplay; camera; microphone; clipboard-read; clipboard-write;\" frameborder=\"0\" allowfullscreen></iframe></div>"
      ],
      "text/plain": [
       "<IPython.core.display.HTML object>"
      ]
     },
     "metadata": {},
     "output_type": "display_data"
    },
    {
     "data": {
      "text/plain": []
     },
     "execution_count": 14,
     "metadata": {},
     "output_type": "execute_result"
    }
   ],
   "source": [
    "import gradio as gr\n",
    "\n",
    "def solve(input):\n",
    "    return generate_solution(input, solution_length=2)\n",
    "\n",
    "demo = gr.Interface(fn=solve, inputs=[gr.Textbox(label=\"Addition exercise\", lines=1, info=\"The input must be of the form '1 + 2 =', with a single space between each character, and only single-digit numbers are allowed.\")],\n",
    "                    outputs=[gr.Textbox(label=\"Result\", lines=1)],\n",
    "                    title=\"Simple addition with a GPT-like model\",\n",
    "                    description=\"Perform addition of two single-digit numbers using a GPT-like model trained on a small dataset.\",\n",
    "                    examples=[\"1 + 2 =\", \"5 + 7 =\"])\n",
    "    \n",
    "demo.launch()"
   ]
  },
  {
   "cell_type": "code",
   "execution_count": null,
   "metadata": {},
   "outputs": [],
   "source": []
  }
 ],
 "metadata": {
  "kernelspec": {
   "display_name": "venv",
   "language": "python",
   "name": "python3"
  },
  "language_info": {
   "codemirror_mode": {
    "name": "ipython",
    "version": 3
   },
   "file_extension": ".py",
   "mimetype": "text/x-python",
   "name": "python",
   "nbconvert_exporter": "python",
   "pygments_lexer": "ipython3",
   "version": "3.10.11"
  },
  "orig_nbformat": 4
 },
 "nbformat": 4,
 "nbformat_minor": 2
}
